{
 "cells": [
  {
   "cell_type": "markdown",
   "metadata": {},
   "source": [
    "First, I want to look at a single piece of data and will open up one of the text files. I notice that each text file is an entire book. I also see that the header provides metadata and I assume these text files will have the similar format (Title, Author, Posting Date, Release Date, First Posted, Last Updated, Language, Character set encoding).\n",
    "\n",
    "I want to build a dataframe containing the metadata to work with. I also need to separate the actual book text from the metadata."
   ]
  },
  {
   "cell_type": "code",
   "execution_count": 1,
   "metadata": {},
   "outputs": [],
   "source": [
    "import pandas as pd\n",
    "import re\n",
    "import os"
   ]
  },
  {
   "cell_type": "markdown",
   "metadata": {},
   "source": [
    "Decided to use regular expressions to detect the metadata.\n",
    "Defining all the regex here"
   ]
  },
  {
   "cell_type": "code",
   "execution_count": 2,
   "metadata": {},
   "outputs": [],
   "source": [
    "#dictionary containing the metadata that I am looking for\n",
    "metadata_dict = {\n",
    "    #Using regex to match the pattern, and everything after the pattern up to a '\\n'.\n",
    "    'title': re.compile(r'Title: (?P<title>.*)\\n'),\n",
    "    'author': re.compile(r'Author: (?P<author>.*)\\n'),\n",
    "    'posting_date': re.compile(r'Posting Date: (?P<posting_date>.*)\\n'),\n",
    "    'release_date': re.compile(r'Release Date: (?P<release_date>.*)\\n'),\n",
    "    'first_posted': re.compile(r'First Posted: (?P<first_posted>.*)\\n'),\n",
    "    'last_updated': re.compile(r'Last Updated: (?P<last_updated>.*)\\n'),\n",
    "    'language': re.compile(r'Language: (?P<language>.*)\\n'),\n",
    "    'character_set_encoding': re.compile(r'Character Set Encoding: (?P<character_set_encoding>.*)\\n'),\n",
    "}"
   ]
  },
  {
   "cell_type": "code",
   "execution_count": 3,
   "metadata": {},
   "outputs": [],
   "source": [
    "#line parser that checks for regex matches \n",
    "def parse_line(line):\n",
    "    for key, rx in metadata_dict.items():\n",
    "        match = rx.match(line)\n",
    "        if match:\n",
    "            return key, match\n",
    "    #if metadata is not found\n",
    "    return None, None"
   ]
  },
  {
   "cell_type": "code",
   "execution_count": 4,
   "metadata": {
    "scrolled": true
   },
   "outputs": [],
   "source": [
    "#empty list that will be appended to after parsing each book\n",
    "data = []\n",
    "#looping through files that end with '.txt' within the directory 'gutenberg'\n",
    "for filename in os.listdir('gutenberg'):\n",
    "    if filename.endswith('.txt'):\n",
    "        #creating an empty dict for each book, this will eventually be one element in the 'data' list and one row in the df\n",
    "        row = {}\n",
    "        #ignoring encoding/decoding errors\n",
    "        with open('gutenberg/'+filename, encoding='utf-8', errors='ignore') as f:\n",
    "            #saving the filename as a data point\n",
    "            row['Filename'] = filename\n",
    "            #looping through the first fifty lines\n",
    "            for i in range(40):\n",
    "                line = f.readline()\n",
    "                #calling the line parser to detect metadata\n",
    "                key, match = parse_line(line)\n",
    "\n",
    "                if key == 'title':\n",
    "                    row['Title'] = match.group('title')\n",
    "                if key == 'author':\n",
    "                    row['Author'] = match.group('author')\n",
    "                if key == 'posting_date':\n",
    "                    row['Posting Date'] = match.group('posting_date')\n",
    "                if key == 'release_date':\n",
    "                    row['Release Date'] = match.group('release_date')\n",
    "                if key == 'first_posted':\n",
    "                    row['First Posted'] = match.group('first_posted')\n",
    "                if key == 'last_updated':\n",
    "                    row['Last Updated'] = match.group('last_updated')\n",
    "                if key == 'language':\n",
    "                    row['Language'] = match.group('language')\n",
    "                if key == 'character_set_encoding':\n",
    "                    row['Character Set Encoding'] = match.group('character_set_encoding')\n",
    "\n",
    "        #Parsing the actual book text\n",
    "            #resetting the read pointer\n",
    "            f.seek(0)\n",
    "            raw = f.read()\n",
    "            #Determining start and stop points of the actual book text\n",
    "            #Start point can be improved, edge case of *** START ... *** taking more than one line.\n",
    "            start = re.search(r'\\*\\*\\*.*START.*', raw).end()\n",
    "            #There is a line before this, usually starting with 'End of the Project' but has variations. The ending point can be improved upon.\n",
    "            stop = re.search(r'\\*\\*\\*.*END.*', raw).start()\n",
    "            text = raw[start:stop]\n",
    "            #replacing non-alphanumerical with space and converting to lower case.\n",
    "            processed_text = re.sub('[^A-Za-z0-9.]+', ' ', text).lower()\n",
    "            #Tracking whether the word 'truth' occurs more than twice\n",
    "            if len(re.findall(r'truth', processed_text)) > 2:\n",
    "                row['Truth twice'] = True\n",
    "            #Number of times closing quotations appears in the text.\n",
    "            row['Dialogue Instances'] = len(re.findall(r'\\”', text))\n",
    "            #Number of characters in book\n",
    "            row['Book Length'] = len(text)   \n",
    "            row['Filename'] = filename\n",
    "            \n",
    "        data.append(row)"
   ]
  },
  {
   "cell_type": "markdown",
   "metadata": {},
   "source": [
    "Now that I have a list of dictionaries, I can convert this directly to a dataframe."
   ]
  },
  {
   "cell_type": "code",
   "execution_count": 5,
   "metadata": {},
   "outputs": [
    {
     "data": {
      "text/html": [
       "<div>\n",
       "<style scoped>\n",
       "    .dataframe tbody tr th:only-of-type {\n",
       "        vertical-align: middle;\n",
       "    }\n",
       "\n",
       "    .dataframe tbody tr th {\n",
       "        vertical-align: top;\n",
       "    }\n",
       "\n",
       "    .dataframe thead th {\n",
       "        text-align: right;\n",
       "    }\n",
       "</style>\n",
       "<table border=\"1\" class=\"dataframe\">\n",
       "  <thead>\n",
       "    <tr style=\"text-align: right;\">\n",
       "      <th></th>\n",
       "      <th>Author</th>\n",
       "      <th>Book Length</th>\n",
       "      <th>Dialogue Instances</th>\n",
       "      <th>Filename</th>\n",
       "      <th>First Posted</th>\n",
       "      <th>Language</th>\n",
       "      <th>Last Updated</th>\n",
       "      <th>Posting Date</th>\n",
       "      <th>Release Date</th>\n",
       "      <th>Title</th>\n",
       "      <th>Truth twice</th>\n",
       "    </tr>\n",
       "  </thead>\n",
       "  <tbody>\n",
       "    <tr>\n",
       "      <th>0</th>\n",
       "      <td>Dante Alighieri</td>\n",
       "      <td>561938</td>\n",
       "      <td>52</td>\n",
       "      <td>1012-0.txt</td>\n",
       "      <td>September 4, 1997</td>\n",
       "      <td>Italian</td>\n",
       "      <td>December 8, 2014</td>\n",
       "      <td>November 7, 2015 [EBook #1012]</td>\n",
       "      <td>August, 1997</td>\n",
       "      <td>La Divina Commedia di Dante</td>\n",
       "      <td>NaN</td>\n",
       "    </tr>\n",
       "    <tr>\n",
       "      <th>1</th>\n",
       "      <td>by (AKA B. M. Sinclair) B. M. Bower</td>\n",
       "      <td>160078</td>\n",
       "      <td>444</td>\n",
       "      <td>1014-0.txt</td>\n",
       "      <td>NaN</td>\n",
       "      <td>English</td>\n",
       "      <td>October 9, 2016</td>\n",
       "      <td>July 27, 2008 [EBook #1014]</td>\n",
       "      <td>August, 1997</td>\n",
       "      <td>The Lure of the Dim Trails</td>\n",
       "      <td>True</td>\n",
       "    </tr>\n",
       "    <tr>\n",
       "      <th>2</th>\n",
       "      <td>Francis Parkman, Jr.</td>\n",
       "      <td>722277</td>\n",
       "      <td>543</td>\n",
       "      <td>1015-0.txt</td>\n",
       "      <td>NaN</td>\n",
       "      <td>English</td>\n",
       "      <td>November 18, 2016</td>\n",
       "      <td>NaN</td>\n",
       "      <td>April 27, 2006 [EBook #1015]</td>\n",
       "      <td>The Oregon Trail</td>\n",
       "      <td>True</td>\n",
       "    </tr>\n",
       "    <tr>\n",
       "      <th>3</th>\n",
       "      <td>Oscar Wilde</td>\n",
       "      <td>82115</td>\n",
       "      <td>0</td>\n",
       "      <td>1017-0.txt</td>\n",
       "      <td>NaN</td>\n",
       "      <td>English</td>\n",
       "      <td>NaN</td>\n",
       "      <td>NaN</td>\n",
       "      <td>September 26, 2014  [eBook #1017]</td>\n",
       "      <td>The Soul of Man</td>\n",
       "      <td>NaN</td>\n",
       "    </tr>\n",
       "    <tr>\n",
       "      <th>4</th>\n",
       "      <td>Mark Twain (Samuel Clemens)</td>\n",
       "      <td>294746</td>\n",
       "      <td>0</td>\n",
       "      <td>102-0.txt</td>\n",
       "      <td>NaN</td>\n",
       "      <td>NaN</td>\n",
       "      <td>November 8, 2016</td>\n",
       "      <td>NaN</td>\n",
       "      <td>August 20, 2006 [EBook #102]</td>\n",
       "      <td>The Tragedy of Pudd'nhead Wilson</td>\n",
       "      <td>True</td>\n",
       "    </tr>\n",
       "  </tbody>\n",
       "</table>\n",
       "</div>"
      ],
      "text/plain": [
       "                                Author  Book Length  Dialogue Instances  \\\n",
       "0                      Dante Alighieri       561938                  52   \n",
       "1  by (AKA B. M. Sinclair) B. M. Bower       160078                 444   \n",
       "2                 Francis Parkman, Jr.       722277                 543   \n",
       "3                          Oscar Wilde        82115                   0   \n",
       "4          Mark Twain (Samuel Clemens)       294746                   0   \n",
       "\n",
       "     Filename       First Posted Language       Last Updated  \\\n",
       "0  1012-0.txt  September 4, 1997  Italian   December 8, 2014   \n",
       "1  1014-0.txt                NaN  English    October 9, 2016   \n",
       "2  1015-0.txt                NaN  English  November 18, 2016   \n",
       "3  1017-0.txt                NaN  English                NaN   \n",
       "4   102-0.txt                NaN      NaN   November 8, 2016   \n",
       "\n",
       "                     Posting Date                       Release Date  \\\n",
       "0  November 7, 2015 [EBook #1012]                       August, 1997   \n",
       "1     July 27, 2008 [EBook #1014]                       August, 1997   \n",
       "2                             NaN       April 27, 2006 [EBook #1015]   \n",
       "3                             NaN  September 26, 2014  [eBook #1017]   \n",
       "4                             NaN       August 20, 2006 [EBook #102]   \n",
       "\n",
       "                              Title Truth twice  \n",
       "0       La Divina Commedia di Dante         NaN  \n",
       "1        The Lure of the Dim Trails        True  \n",
       "2                  The Oregon Trail        True  \n",
       "3                   The Soul of Man         NaN  \n",
       "4  The Tragedy of Pudd'nhead Wilson        True  "
      ]
     },
     "execution_count": 5,
     "metadata": {},
     "output_type": "execute_result"
    }
   ],
   "source": [
    "metadata_df = pd.DataFrame(data)\n",
    "metadata_df.head()"
   ]
  },
  {
   "cell_type": "markdown",
   "metadata": {},
   "source": [
    "I want to see if there are any missing values for each of the columns to decide which columns to use when answering questions. Will also do some general statistics.\n",
    "I also notice from a quick glance, that the date columns need cleaning as well. Some contain extra words (i.e. August 20, 2006 [EBook #102]) or different formats of date (i.e. August 1997)."
   ]
  },
  {
   "cell_type": "code",
   "execution_count": 6,
   "metadata": {},
   "outputs": [
    {
     "data": {
      "text/plain": [
       "Book Length            0.000000\n",
       "Dialogue Instances     0.000000\n",
       "Filename               0.000000\n",
       "Title                  0.000000\n",
       "Author                 0.131406\n",
       "Language               0.131406\n",
       "Release Date           2.759527\n",
       "Truth twice           18.134034\n",
       "Last Updated          24.572930\n",
       "Posting Date          52.036794\n",
       "First Posted          98.685940\n",
       "dtype: float64"
      ]
     },
     "execution_count": 6,
     "metadata": {},
     "output_type": "execute_result"
    }
   ],
   "source": [
    "percent_missing = metadata_df.isnull().sum() * 100 / len(metadata_df)\n",
    "percent_missing.sort_values()"
   ]
  },
  {
   "cell_type": "code",
   "execution_count": 7,
   "metadata": {},
   "outputs": [
    {
     "name": "stdout",
     "output_type": "stream",
     "text": [
      "<class 'pandas.core.frame.DataFrame'>\n",
      "RangeIndex: 761 entries, 0 to 760\n",
      "Data columns (total 11 columns):\n",
      "Author                760 non-null object\n",
      "Book Length           761 non-null int64\n",
      "Dialogue Instances    761 non-null int64\n",
      "Filename              761 non-null object\n",
      "First Posted          10 non-null object\n",
      "Language              760 non-null object\n",
      "Last Updated          574 non-null object\n",
      "Posting Date          365 non-null object\n",
      "Release Date          740 non-null object\n",
      "Title                 761 non-null object\n",
      "Truth twice           623 non-null object\n",
      "dtypes: int64(2), object(9)\n",
      "memory usage: 65.5+ KB\n"
     ]
    }
   ],
   "source": [
    "metadata_df.info()"
   ]
  },
  {
   "cell_type": "markdown",
   "metadata": {},
   "source": [
    "There are a total of 761 rows, which when compared to the number of files in the folder ending in .txt, is a match."
   ]
  },
  {
   "cell_type": "markdown",
   "metadata": {},
   "source": [
    "In which books does the word \"truth\" appear more than twice?"
   ]
  },
  {
   "cell_type": "code",
   "execution_count": 8,
   "metadata": {
    "scrolled": true
   },
   "outputs": [
    {
     "data": {
      "text/plain": [
       "1                             The Lure of the Dim Trails\n",
       "2                                       The Oregon Trail\n",
       "4                       The Tragedy of Pudd'nhead Wilson\n",
       "5                                                Walking\n",
       "6                                            The Wrecker\n",
       "7                                  The Diary of a Nobody\n",
       "8                                   The Lone Star Ranger\n",
       "9                                          The Professor\n",
       "10                                        The Night-Born\n",
       "11             The Cavalier Songs and Ballads of England\n",
       "13                                             The Pupil\n",
       "14                              Joe Wilson and His Mates\n",
       "15                                                 Style\n",
       "16                                     A Reading of Life\n",
       "18                                God The Invisible King\n",
       "19                                   The New Machiavelli\n",
       "20                                    The Ruling Passion\n",
       "21                                      Within the Tides\n",
       "22                               A Collection of Ballads\n",
       "23                                     'Twixt Land & Sea\n",
       "24                                                 Poems\n",
       "25                                 The Mirror of the Sea\n",
       "26                                    The World Set Free\n",
       "28                                 William the Conqueror\n",
       "29     Nana, The Miller’s Daughter, Captain Burle, De...\n",
       "30                                          The Sea-Wolf\n",
       "31                            The Strength of the Strong\n",
       "32                                The Wallet of Kai Lung\n",
       "33                                 The Mirror of Kong Ho\n",
       "34                              The Scouts of the Valley\n",
       "                             ...                        \n",
       "717                                           Intentions\n",
       "719                                The Rose and the Ring\n",
       "721                            Wonderful Balloon Ascents\n",
       "723                                    The White Company\n",
       "724                                Her Father’s Daughter\n",
       "725                                       Within the Law\n",
       "728                        The Mudfog and Other Sketches\n",
       "729                                   A Hero of Our Time\n",
       "730                           The Uncommercial Traveller\n",
       "731                            Sketches of Young Couples\n",
       "732                                        Barnaby Rudge\n",
       "733                          Sketches of Young Gentlemen\n",
       "738                                            Self-Help\n",
       "739                              The Village Watch-Tower\n",
       "740                                          Good Indian\n",
       "742                             The Last of the Mohicans\n",
       "743                                       Green Mansions\n",
       "744                                                 Dust\n",
       "746                                        Little Dorrit\n",
       "747                                      The Black Tulip\n",
       "748                                          Maid Marian\n",
       "749         The Life And Adventures Of Nicholas Nickleby\n",
       "750             Life And Adventures Of Martin Chuzzlewit\n",
       "751                          The Tenant of Wildfell Hall\n",
       "752                                     The Secret Agent\n",
       "753                                       American Notes\n",
       "755                                 A Tale of Two Cities\n",
       "756                                          Alice Adams\n",
       "758                                       Father Sergius\n",
       "760                                              Malbone\n",
       "Name: Title, Length: 623, dtype: object"
      ]
     },
     "execution_count": 8,
     "metadata": {},
     "output_type": "execute_result"
    }
   ],
   "source": [
    "#Selecting book titles that have a value of True in the column 'Truth appearing more than twice'\n",
    "metadata_df['Title'].loc[metadata_df['Truth twice'] == True]"
   ]
  },
  {
   "cell_type": "markdown",
   "metadata": {},
   "source": [
    "Which book has the most dialogue between characters?"
   ]
  },
  {
   "cell_type": "code",
   "execution_count": 9,
   "metadata": {
    "scrolled": true
   },
   "outputs": [
    {
     "data": {
      "text/plain": [
       "Author                         Alexandre Dumas, père\n",
       "Book Length                                  2624640\n",
       "Dialogue Instances                             15194\n",
       "Filename                                  1184-0.txt\n",
       "First Posted                                     NaN\n",
       "Language                                     English\n",
       "Last Updated                       February 24, 2017\n",
       "Posting Date                                     NaN\n",
       "Release Date          November 8, 2008 [EBook #1184]\n",
       "Title                      The Count of Monte Cristo\n",
       "Truth twice                                     True\n",
       "Name: 64, dtype: object"
      ]
     },
     "execution_count": 9,
     "metadata": {},
     "output_type": "execute_result"
    }
   ],
   "source": [
    "#Querying the row with the max value in column 'Instances of dialogue'\n",
    "metadata_df.loc[metadata_df['Dialogue Instances'].idxmax()]"
   ]
  },
  {
   "cell_type": "code",
   "execution_count": 10,
   "metadata": {},
   "outputs": [
    {
     "data": {
      "text/plain": [
       "Author                               Victor Hugo\n",
       "Book Length                              3235163\n",
       "Dialogue Instances                             0\n",
       "Filename                               135-0.txt\n",
       "First Posted                                 NaN\n",
       "Language                                 English\n",
       "Last Updated                    January 18, 2016\n",
       "Posting Date                                 NaN\n",
       "Release Date          June 22, 2008 [EBook #135]\n",
       "Title                             Les Misérables\n",
       "Truth twice                                 True\n",
       "Name: 148, dtype: object"
      ]
     },
     "execution_count": 10,
     "metadata": {},
     "output_type": "execute_result"
    }
   ],
   "source": [
    "metadata_df.loc[metadata_df['Book Length'].idxmax()]"
   ]
  },
  {
   "cell_type": "markdown",
   "metadata": {},
   "source": [
    "Ratio of books in English vs Non-English"
   ]
  },
  {
   "cell_type": "code",
   "execution_count": 11,
   "metadata": {},
   "outputs": [
    {
     "data": {
      "text/plain": [
       "English     99.210526\n",
       "French       0.526316\n",
       "Italian      0.131579\n",
       "Japanese     0.131579\n",
       "Name: Language, dtype: float64"
      ]
     },
     "execution_count": 11,
     "metadata": {},
     "output_type": "execute_result"
    }
   ],
   "source": [
    "#dropping rows with null values in the Language column\n",
    "language_df = metadata_df.dropna(subset=['Language'])\n",
    "language_df['Language'].value_counts(normalize=True)*100"
   ]
  },
  {
   "cell_type": "markdown",
   "metadata": {},
   "source": [
    "Most common release date"
   ]
  },
  {
   "cell_type": "code",
   "execution_count": 12,
   "metadata": {},
   "outputs": [
    {
     "data": {
      "text/plain": [
       "0    May, 1999\n",
       "dtype: object"
      ]
     },
     "execution_count": 12,
     "metadata": {},
     "output_type": "execute_result"
    }
   ],
   "source": [
    "#Without cleansing\n",
    "metadata_df['Release Date'].mode()"
   ]
  },
  {
   "cell_type": "code",
   "execution_count": 13,
   "metadata": {
    "scrolled": true
   },
   "outputs": [],
   "source": [
    "mode_df = metadata_df\n",
    "#removing [Ebook #]\n",
    "mode_df['Release Date'] = mode_df['Release Date'].str.replace(r'\\[.*\\].*','')\n",
    "#removing whitespace\n",
    "mode_df['Release Date'] = mode_df['Release Date'].str.strip()\n",
    "#regex looking for a word character, followed by a space, followed by four digits. Adding the comma if found (i.e. August 1997 to August, 1997)\n",
    "mode_df['Release Date'] = mode_df['Release Date'].str.replace(r'(\\w)( \\d{4})', r'\\1,\\2')"
   ]
  },
  {
   "cell_type": "code",
   "execution_count": 14,
   "metadata": {
    "scrolled": true
   },
   "outputs": [
    {
     "data": {
      "text/plain": [
       "0    August, 1999\n",
       "dtype: object"
      ]
     },
     "execution_count": 14,
     "metadata": {},
     "output_type": "execute_result"
    }
   ],
   "source": [
    "mode_df['Release Date'].mode()"
   ]
  },
  {
   "cell_type": "markdown",
   "metadata": {},
   "source": [
    "Average Release Date (year only)"
   ]
  },
  {
   "cell_type": "code",
   "execution_count": 15,
   "metadata": {},
   "outputs": [],
   "source": [
    "#initializing df under a different name, dedicated for this problem\n",
    "average_df = pd.DataFrame(data)\n",
    "#found outlier with text after the [EBook #], removing everything after [] including []\n",
    "average_df['Release Date'] = average_df['Release Date'].str.replace(r'\\[.*\\].*','')\n",
    "#stripping any white spaces\n",
    "average_df['Release Date'] = average_df['Release Date'].str.strip()\n",
    "#Creating new column 'Release Year' by taking last four chars of 'Release Date'\n",
    "average_df['Release Year'] = average_df['Release Date'].str[-4:]\n",
    "#removing rows with null values in the column 'Release Year'\n",
    "average_df = average_df.dropna(subset=['Release Year'])\n",
    "#converting to int\n",
    "average_df['Release Year'] = average_df['Release Year'].astype(int)"
   ]
  },
  {
   "cell_type": "code",
   "execution_count": 16,
   "metadata": {},
   "outputs": [
    {
     "name": "stdout",
     "output_type": "stream",
     "text": [
      "2003.495945945946\n",
      "2003\n"
     ]
    }
   ],
   "source": [
    "avg_year = average_df['Release Year'].mean()\n",
    "print(avg_year)\n",
    "print(round(avg_year))"
   ]
  },
  {
   "cell_type": "code",
   "execution_count": null,
   "metadata": {},
   "outputs": [],
   "source": []
  }
 ],
 "metadata": {
  "kernelspec": {
   "display_name": "Python 3",
   "language": "python",
   "name": "python3"
  },
  "language_info": {
   "codemirror_mode": {
    "name": "ipython",
    "version": 3
   },
   "file_extension": ".py",
   "mimetype": "text/x-python",
   "name": "python",
   "nbconvert_exporter": "python",
   "pygments_lexer": "ipython3",
   "version": "3.6.4"
  }
 },
 "nbformat": 4,
 "nbformat_minor": 2
}
